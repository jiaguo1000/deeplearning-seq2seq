{
 "cells": [
  {
   "cell_type": "code",
   "execution_count": 1,
   "metadata": {},
   "outputs": [],
   "source": [
    "import pandas as pd\n",
    "import numpy as np\n",
    "import os\n",
    "import subprocess\n",
    "import h5py\n",
    "\n",
    "%matplotlib inline\n",
    "import matplotlib.pyplot as plt\n",
    "plt.style.use('seaborn-whitegrid')\n",
    "\n",
    "from sklearn.metrics.pairwise import cosine_similarity\n",
    "\n",
    "data_dir = '../Data'"
   ]
  },
  {
   "cell_type": "code",
   "execution_count": 2,
   "metadata": {},
   "outputs": [
    {
     "name": "stderr",
     "output_type": "stream",
     "text": [
      "100%|██████████| 3209/3209 [00:09<00:00, 353.39it/s]\n"
     ]
    }
   ],
   "source": [
    "# get topological order with the pretrained embedding\n",
    "%run generate_d2gpo_order.py ../Data/3000/new/stocks_emb.w2vec ../Data/3000/new/stocks_emb.order.txt ../Data/3000/new/stocks_emb.order.idx\n"
   ]
  },
  {
   "cell_type": "code",
   "execution_count": 13,
   "metadata": {},
   "outputs": [
    {
     "name": "stderr",
     "output_type": "stream",
     "text": [
      " 29%|██▊       | 920/3209 [00:00<00:00, 4575.05it/s]"
     ]
    },
    {
     "name": "stdout",
     "output_type": "stream",
     "text": [
      "[0.00031187 0.00031187 0.00031187 ... 0.0003116  0.0003116  0.0003116 ]\n"
     ]
    },
    {
     "name": "stderr",
     "output_type": "stream",
     "text": [
      "100%|██████████| 3209/3209 [00:00<00:00, 4835.29it/s]\n"
     ]
    }
   ],
   "source": [
    "# get the prior distribution for each stocks\n",
    "\n",
    "# if Gaussian evaluation function\n",
    "\n",
    "%run generate_d2gpo_distribution.py gaussian 230 0 0 presoftmax 2 ../Data/3000/new/stocks_emb.order.idx ../Data/3000/new/stocks_emb.gaussian_1_0_0.h5"
   ]
  },
  {
   "cell_type": "code",
   "execution_count": null,
   "metadata": {},
   "outputs": [],
   "source": [
    "# if linear evaluation function\n",
    "\n",
    "%run generate_d2gpo_distribution.py linear -0.0003 0 presoftmax 2 ../Data/stocks_emb.order.idx ../Data/stocks_emb.gaussian_1_0_0.h5"
   ]
  },
  {
   "cell_type": "code",
   "execution_count": 14,
   "metadata": {},
   "outputs": [
    {
     "data": {
      "text/plain": [
       "(3209, 3209)"
      ]
     },
     "execution_count": 14,
     "metadata": {},
     "output_type": "execute_result"
    }
   ],
   "source": [
    "# prior distribution data\n",
    "\n",
    "with h5py.File(\"../Data/3000/new/stocks_emb.gaussian_1_0_0.h5\", 'r') as f:\n",
    "    dist_data = np.array(f.get('weights'))\n",
    "\n",
    "dist_data.shape"
   ]
  },
  {
   "cell_type": "code",
   "execution_count": 15,
   "metadata": {},
   "outputs": [],
   "source": [
    "with open(\"../Data/3000/new/stocks_emb.order.txt\", 'r') as f:\n",
    "    symbols_txt = f.readlines()\n",
    "    \n",
    "with open(\"../Data/3000/new/stocks_emb.order.idx\", 'r') as f:\n",
    "    symbols_order = f.readlines()\n",
    "\n",
    "symbols_txt = [x.split(\" \") for x in symbols_txt]"
   ]
  },
  {
   "cell_type": "code",
   "execution_count": 16,
   "metadata": {},
   "outputs": [
    {
     "data": {
      "text/plain": [
       "2224"
      ]
     },
     "execution_count": 16,
     "metadata": {},
     "output_type": "execute_result"
    }
   ],
   "source": [
    "temp_ind = [x[0] for x in symbols_txt]\n",
    "AAPL_ind = [x=='AAPL' for x in temp_ind]\n",
    "AAPL_ind = [i for i, val in enumerate(AAPL_ind) if val][0]\n",
    "\n",
    "AAPL_ind"
   ]
  },
  {
   "cell_type": "code",
   "execution_count": 17,
   "metadata": {},
   "outputs": [
    {
     "data": {
      "text/html": [
       "<div>\n",
       "<style scoped>\n",
       "    .dataframe tbody tr th:only-of-type {\n",
       "        vertical-align: middle;\n",
       "    }\n",
       "\n",
       "    .dataframe tbody tr th {\n",
       "        vertical-align: top;\n",
       "    }\n",
       "\n",
       "    .dataframe thead th {\n",
       "        text-align: right;\n",
       "    }\n",
       "</style>\n",
       "<table border=\"1\" class=\"dataframe\">\n",
       "  <thead>\n",
       "    <tr style=\"text-align: right;\">\n",
       "      <th></th>\n",
       "      <th>index</th>\n",
       "      <th>0</th>\n",
       "      <th>1</th>\n",
       "    </tr>\n",
       "  </thead>\n",
       "  <tbody>\n",
       "    <tr>\n",
       "      <th>0</th>\n",
       "      <td>2224</td>\n",
       "      <td>AAPL</td>\n",
       "      <td>0.000312</td>\n",
       "    </tr>\n",
       "    <tr>\n",
       "      <th>1</th>\n",
       "      <td>2548</td>\n",
       "      <td>QTEC</td>\n",
       "      <td>0.000312</td>\n",
       "    </tr>\n",
       "    <tr>\n",
       "      <th>2</th>\n",
       "      <td>783</td>\n",
       "      <td>SMH</td>\n",
       "      <td>0.000312</td>\n",
       "    </tr>\n",
       "    <tr>\n",
       "      <th>3</th>\n",
       "      <td>738</td>\n",
       "      <td>AAXJ</td>\n",
       "      <td>0.000312</td>\n",
       "    </tr>\n",
       "    <tr>\n",
       "      <th>4</th>\n",
       "      <td>2525</td>\n",
       "      <td>SOXX</td>\n",
       "      <td>0.000312</td>\n",
       "    </tr>\n",
       "    <tr>\n",
       "      <th>...</th>\n",
       "      <td>...</td>\n",
       "      <td>...</td>\n",
       "      <td>...</td>\n",
       "    </tr>\n",
       "    <tr>\n",
       "      <th>3204</th>\n",
       "      <td>1258</td>\n",
       "      <td>SRAX</td>\n",
       "      <td>0.000312</td>\n",
       "    </tr>\n",
       "    <tr>\n",
       "      <th>3205</th>\n",
       "      <td>1261</td>\n",
       "      <td>NGM</td>\n",
       "      <td>0.000312</td>\n",
       "    </tr>\n",
       "    <tr>\n",
       "      <th>3206</th>\n",
       "      <td>1262</td>\n",
       "      <td>NH</td>\n",
       "      <td>0.000312</td>\n",
       "    </tr>\n",
       "    <tr>\n",
       "      <th>3207</th>\n",
       "      <td>1263</td>\n",
       "      <td>SSP</td>\n",
       "      <td>0.000312</td>\n",
       "    </tr>\n",
       "    <tr>\n",
       "      <th>3208</th>\n",
       "      <td>3208</td>\n",
       "      <td>SLS</td>\n",
       "      <td>0.000312</td>\n",
       "    </tr>\n",
       "  </tbody>\n",
       "</table>\n",
       "<p>3209 rows × 3 columns</p>\n",
       "</div>"
      ],
      "text/plain": [
       "      index     0         1\n",
       "0      2224  AAPL  0.000312\n",
       "1      2548  QTEC  0.000312\n",
       "2       783   SMH  0.000312\n",
       "3       738  AAXJ  0.000312\n",
       "4      2525  SOXX  0.000312\n",
       "...     ...   ...       ...\n",
       "3204   1258  SRAX  0.000312\n",
       "3205   1261   NGM  0.000312\n",
       "3206   1262    NH  0.000312\n",
       "3207   1263   SSP  0.000312\n",
       "3208   3208   SLS  0.000312\n",
       "\n",
       "[3209 rows x 3 columns]"
      ]
     },
     "execution_count": 17,
     "metadata": {},
     "output_type": "execute_result"
    }
   ],
   "source": [
    "AAPL_prior_dist = pd.concat([pd.Series(temp_ind), pd.Series(dist_data[AAPL_ind,:])], axis=1)\n",
    "AAPL_prior_dist = AAPL_prior_dist.sort_values([1], ascending=False)\n",
    "AAPL_prior_dist = AAPL_prior_dist.reset_index()\n",
    "\n",
    "AAPL_prior_dist"
   ]
  },
  {
   "cell_type": "code",
   "execution_count": 28,
   "metadata": {},
   "outputs": [
    {
     "data": {
      "text/plain": [
       "0.00031159923"
      ]
     },
     "execution_count": 28,
     "metadata": {},
     "output_type": "execute_result"
    }
   ],
   "source": []
  },
  {
   "cell_type": "code",
   "execution_count": 18,
   "metadata": {},
   "outputs": [
    {
     "data": {
      "text/plain": [
       "[48, 2261, 2039]"
      ]
     },
     "execution_count": 18,
     "metadata": {},
     "output_type": "execute_result"
    }
   ],
   "source": [
    "MSFT_ind = AAPL_prior_dist.index[AAPL_prior_dist[0] == 'MSFT'].tolist()[0]\n",
    "FRBA_ind = AAPL_prior_dist.index[AAPL_prior_dist[0] == 'FRBA'].tolist()[0]\n",
    "BANF_ind = AAPL_prior_dist.index[AAPL_prior_dist[0] == 'BANF'].tolist()[0]\n",
    "\n",
    "[MSFT_ind, FRBA_ind, BANF_ind]"
   ]
  },
  {
   "cell_type": "code",
   "execution_count": 50,
   "metadata": {},
   "outputs": [
    {
     "data": {
      "text/plain": [
       "<matplotlib.collections.LineCollection at 0x1a2b674c10>"
      ]
     },
     "execution_count": 50,
     "metadata": {},
     "output_type": "execute_result"
    },
    {
     "data": {
      "image/png": "[encoded data removed]",
      "text/plain": [
       "<Figure size 1080x504 with 1 Axes>"
      ]
     },
     "metadata": {},
     "output_type": "display_data"
    }
   ],
   "source": [
    "n = 3209\n",
    "bottom_value = AAPL_prior_dist.loc[n-1].values[2]*0.99995\n",
    "top_value = AAPL_prior_dist.loc[0].values[2]\n",
    "\n",
    "f = plt.figure(figsize = (15,7))\n",
    "plt.plot(list(range(n)), AAPL_prior_dist[1][0:n], linewidth=3)\n",
    "plt.xlabel('index of sorted stocks', size=15)\n",
    "plt.ylabel('probability', size=15)\n",
    "\n",
    "plt.annotate('AAPL', (-162, bottom_value), size=15, color='red')\n",
    "plt.vlines(0, bottom_value, top_value, color='red', linewidth=3)\n",
    "\n",
    "plt.annotate('MSFT', (MSFT_ind+10, bottom_value), size=15, color='green')\n",
    "plt.vlines(MSFT_ind, bottom_value, top_value-0.000000009, color='green', linewidth=3)\n",
    "\n",
    "plt.annotate('FRBA', (FRBA_ind+10, bottom_value), size=15, color='purple')\n",
    "plt.vlines(FRBA_ind, bottom_value, bottom_value+0.000000015, color='purple', linewidth=3)\n",
    "\n",
    "plt.annotate('BANF', (BANF_ind+10, bottom_value), size=15, color='blue')\n",
    "plt.vlines(BANF_ind, bottom_value, bottom_value+0.000000015, color='blue', linewidth=3)\n"
   ]
  },
  {
   "cell_type": "code",
   "execution_count": 51,
   "metadata": {},
   "outputs": [],
   "source": [
    "f.savefig('../Data/3000/new/line_plot.pdf')"
   ]
  }
 ],
 "metadata": {
  "kernelspec": {
   "display_name": "Python 3",
   "language": "python",
   "name": "python3"
  },
  "language_info": {
   "codemirror_mode": {
    "name": "ipython",
    "version": 3
   },
   "file_extension": ".py",
   "mimetype": "text/x-python",
   "name": "python",
   "nbconvert_exporter": "python",
   "pygments_lexer": "ipython3",
   "version": "3.7.7"
  }
 },
 "nbformat": 4,
 "nbformat_minor": 4
}
